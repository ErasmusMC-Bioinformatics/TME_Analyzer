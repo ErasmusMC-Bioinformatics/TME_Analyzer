{
 "cells": [
  {
   "cell_type": "markdown",
   "metadata": {},
   "source": [
    "# Full revision analysis"
   ]
  },
  {
   "cell_type": "markdown",
   "metadata": {},
   "source": [
    "## List of work to be performed:\n",
    "1. Supplementary figure showing incorrect inform tumor segmentation and NKT cells \n",
    "2. Supplementary figure with zoom-in images of individual cells from inForm and TME-Analyzer in an image with high disagreement \n",
    "3. Incorporation of DeepCell into TME-Analyzer \n",
    "4. Reorganize the MonteCarlo trials \n",
    "5. Supplementary table 6 with full ranking of parameters and discovery/validation p values if top n parameters were used instead. \n",
    "6. Generate forest plot for 4E \n",
    "7. Build classifier based on train-test split of discovery cohort. Try 16-47, 32-31, 47-16 splits. \n",
    "8. ? It is significant amount of work, but since both reviewers mention is, I can train a random forest on the original dataset and report it ? \n",
    "9. Fig 2B, 2C, and Fig S1: The authors should provide a boxplot or violin plot with all the original data points. Detailed statistics (which statistic test was used) should be added to the corresponding figure legends. Fig 2B and Fig S1A are poorly designed and confusing with the statistics. The authors should provide detailed comparison plots instead of average stack bar plots.\n",
    "We have replotted the data using box-whisker plots, per cell type, with the statistic test used now also mentioned in the figure legends; similar to 2C?\n"
   ]
  },
  {
   "cell_type": "markdown",
   "metadata": {},
   "source": [
    "## 9. remake plots of 2B, 2C and Fig S1"
   ]
  },
  {
   "cell_type": "markdown",
   "metadata": {},
   "source": [
    "start with recreating the plots in figure2"
   ]
  },
  {
   "cell_type": "code",
   "execution_count": null,
   "metadata": {},
   "outputs": [],
   "source": []
  },
  {
   "cell_type": "code",
   "execution_count": null,
   "metadata": {},
   "outputs": [],
   "source": []
  },
  {
   "cell_type": "markdown",
   "metadata": {},
   "source": [
    "reload data"
   ]
  },
  {
   "cell_type": "code",
   "execution_count": null,
   "metadata": {},
   "outputs": [],
   "source": []
  },
  {
   "cell_type": "markdown",
   "metadata": {},
   "source": [
    "define the plotting function"
   ]
  },
  {
   "cell_type": "code",
   "execution_count": null,
   "metadata": {},
   "outputs": [],
   "source": []
  },
  {
   "cell_type": "markdown",
   "metadata": {},
   "source": [
    "make the plots"
   ]
  },
  {
   "cell_type": "code",
   "execution_count": null,
   "metadata": {},
   "outputs": [],
   "source": []
  }
 ],
 "metadata": {
  "kernelspec": {
   "display_name": ".venv",
   "language": "python",
   "name": "python3"
  },
  "language_info": {
   "codemirror_mode": {
    "name": "ipython",
    "version": 3
   },
   "file_extension": ".py",
   "mimetype": "text/x-python",
   "name": "python",
   "nbconvert_exporter": "python",
   "pygments_lexer": "ipython3",
   "version": "3.8.10"
  }
 },
 "nbformat": 4,
 "nbformat_minor": 2
}
