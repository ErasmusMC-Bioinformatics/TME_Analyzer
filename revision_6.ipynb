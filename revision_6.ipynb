{
 "cells": [
  {
   "cell_type": "markdown",
   "metadata": {},
   "source": [
    "# Full revision analysis"
   ]
  },
  {
   "cell_type": "markdown",
   "metadata": {},
   "source": [
    "## List of work to be performed:\n",
    "1. Supplementary figure showing incorrect inform tumor segmentation and NKT cells \n",
    "2. Supplementary figure with zoom-in images of individual cells from inForm and TME-Analyzer in an image with high disagreement \n",
    "3. Incorporation of DeepCell into TME-Analyzer \n",
    "4. Reorganize the MonteCarlo trials \n",
    "5. Supplementary table 6 with full ranking of parameters and discovery/validation p values if top n parameters were used instead. \n",
    "6. Generate forest plot for 4E \n",
    "7. Build classifier based on train-test split of discovery cohort. Try 16-47, 32-31, 47-16 splits. \n",
    "8. ? It is significant amount of work, but since both reviewers mention is, I can train a random forest on the original dataset and report it ? "
   ]
  },
  {
   "cell_type": "markdown",
   "metadata": {},
   "source": [
    "## 6. Generate forest plot for 4E \n",
    "\n",
    "Original data is at:\n",
    "\"E:\\Moved from E\\TME-Analyzer_the_manuscript\\20211129_TME-Analyzer\\data_analysis\\reproduction_of_old_analysis\\20230614_Marcel\\multivariate\\summary.xlsx\""
   ]
  }
 ],
 "metadata": {
  "kernelspec": {
   "display_name": ".venv",
   "language": "python",
   "name": "python3"
  },
  "language_info": {
   "codemirror_mode": {
    "name": "ipython",
    "version": 3
   },
   "file_extension": ".py",
   "mimetype": "text/x-python",
   "name": "python",
   "nbconvert_exporter": "python",
   "pygments_lexer": "ipython3",
   "version": "3.8.10"
  }
 },
 "nbformat": 4,
 "nbformat_minor": 2
}
